{
 "cells": [
  {
   "cell_type": "markdown",
   "metadata": {},
   "source": [
    "Se importaron los módulos necesarios para realizar las siguientes tareas:\n",
    "\n",
    "*Conexión a la base de datos SQLite para obtener los datos de las peticiones y los comercios.\n",
    "\n",
    "*Automatización de Outlook para enviar correos electrónicos con el resumen de las facturas.\n",
    "\n",
    "*Generación de un archivo Excel con los datos procesados.\n",
    "\n",
    "*Gestión de rutas y directorios para asegurar que los archivos se guarden correctamente.\n",
    "\n",
    "*Inclusión de información temporal (fecha y mes) en los datos procesados."
   ]
  },
  {
   "cell_type": "code",
   "execution_count": 1,
   "metadata": {},
   "outputs": [],
   "source": [
    "import sqlite3\n",
    "import win32com.client as win32\n",
    "from datetime import datetime\n",
    "from openpyxl import Workbook\n",
    "import os"
   ]
  },
  {
   "cell_type": "markdown",
   "metadata": {},
   "source": [
    "Establecemos la conexión con la base de datos SQLite ubicada en database.sqlite.\n",
    "\n",
    "*La conexión nos permite interactuar con la base de datos para realizar consultas SQL.\n",
    "*Se creó un cursor para ejecutar comandos SQL y procesar los resultados.\n",
    "\n",
    "Esta conexión es esencial para obtener los datos necesarios para el cálculo de las facturas y la generación del resumen."
   ]
  },
  {
   "cell_type": "code",
   "execution_count": 2,
   "metadata": {},
   "outputs": [],
   "source": [
    "conn = sqlite3.connect('dataBase/database.sqlite')\n",
    "cursor = conn.cursor()"
   ]
  },
  {
   "cell_type": "markdown",
   "metadata": {},
   "source": [
    "Ejecutamos una consulta SQL para obtener los datos de las peticiones realizadas por los comercios activos en los meses de julio y agosto de 2024.\n",
    "\n",
    "*La consulta selecciona el ID y nombre del comercio, así como el total de peticiones exitosas y no exitosas.\n",
    "\n",
    "*Solo se incluyen comercios con estado activo y peticiones realizadas en los meses especificados.\n",
    "\n",
    "*Los resultados se agrupan por comercio y se almacenan en la variable data para su posterior procesamiento.\n",
    "\n",
    "*Se enlista en una tupla para que el manejo de dichos datos se nos facilite mucho más."
   ]
  },
  {
   "cell_type": "code",
   "execution_count": 3,
   "metadata": {},
   "outputs": [],
   "source": [
    "query = \"\"\"\n",
    "SELECT \n",
    "    c.commerce_id,\n",
    "    c.commerce_name,\n",
    "    SUM(CASE WHEN a.ask_status = 'Successful' THEN 1 ELSE 0 END) AS total_exitosas,\n",
    "    SUM(CASE WHEN a.ask_status = 'Unsuccessful' THEN 1 ELSE 0 END) AS total_no_exitosas\n",
    "FROM apicall a\n",
    "JOIN commerce c ON a.commerce_id = c.commerce_id\n",
    "WHERE c.commerce_status = 'Active' AND strftime('%Y-%m', a.date_api_call) IN ('2024-07', '2024-08')\n",
    "GROUP BY c.commerce_id, c.commerce_name;\n",
    "\"\"\"\n",
    "cursor.execute(query)\n",
    "data = cursor.fetchall()"
   ]
  },
  {
   "cell_type": "code",
   "execution_count": 4,
   "metadata": {},
   "outputs": [
    {
     "data": {
      "text/plain": [
       "[('3VYd-4lzT-mTC3-DQN5', 'Zenith Corp.', 40808, 10084),\n",
       " ('GdEQ-MGb7-LXHa-y6cd', 'FusionWave Enterprises', 40668, 10232),\n",
       " ('Rh2k-J1o7-zndZ-cOo8', 'QuantumLeap Inc.', 40535, 10300),\n",
       " ('Vj9W-c4Pm-ja0X-fC1C', 'NexaTech Industries', 40745, 10059)]"
      ]
     },
     "execution_count": 4,
     "metadata": {},
     "output_type": "execute_result"
    }
   ],
   "source": [
    "data"
   ]
  },
  {
   "cell_type": "markdown",
   "metadata": {},
   "source": [
    "Ejecutamos una consulta SQL para obtener los correos electrónicos y NIT de los comercios activos.\n",
    "\n",
    "*Los resultados se almacenan en nuestra variable email_data.\n",
    "\n",
    "*Creamos un diccionario (email_dicc) donde la clave es el commerce_id y los valores son el correo electrónico y el NIT del comercio.\n",
    "\n",
    "Esta información es utilizada para asociar los correos y NIT con los datos de las facturas y para enviar el resumen por correo electrónico."
   ]
  },
  {
   "cell_type": "code",
   "execution_count": 5,
   "metadata": {},
   "outputs": [],
   "source": [
    "query_emails = \"\"\"\n",
    "SELECT \n",
    "    commerce_id,\n",
    "    commerce_email,\n",
    "    commerce_nit\n",
    "FROM commerce\n",
    "WHERE commerce_status = 'Active';\n",
    "\"\"\"\n",
    "cursor.execute(query_emails)\n",
    "email_data = cursor.fetchall()\n",
    "email_dicc = {row[0]: {\"email\": row[1], \"nit\": row[2]} for row in email_data}"
   ]
  },
  {
   "cell_type": "code",
   "execution_count": 6,
   "metadata": {},
   "outputs": [
    {
     "data": {
      "text/plain": [
       "[('Vj9W-c4Pm-ja0X-fC1C', 'nexatechindustries@gemaily.net', 452680670),\n",
       " ('Rh2k-J1o7-zndZ-cOo8', 'quantumleapinc.@gemaily.net', 198818316),\n",
       " ('3VYd-4lzT-mTC3-DQN5', 'zenithcorp.@gemaily.net', 28960112),\n",
       " ('GdEQ-MGb7-LXHa-y6cd', 'fusionwaveenterprises@microfitsof.com', 919341007)]"
      ]
     },
     "execution_count": 6,
     "metadata": {},
     "output_type": "execute_result"
    }
   ],
   "source": [
    "email_data"
   ]
  },
  {
   "cell_type": "markdown",
   "metadata": {},
   "source": [
    "Definimos un diccionario llamado terms_contrato que contiene las tarifas y reglas de facturación para cada comercio. Este diccionario incluye tanto contratos fijos como variables, así como las reglas para aplicar descuentos e IVA."
   ]
  },
  {
   "cell_type": "code",
   "execution_count": 7,
   "metadata": {},
   "outputs": [],
   "source": [
    "# Diccionario con las tarifas y reglas de facturación por comercio\n",
    "terms_contrato = {\n",
    "    \"Innovexa Solutions\": {\n",
    "        \"tipo\": \"fijo\",\n",
    "        \"precio\": 300,\n",
    "        \"iva\": 0.19\n",
    "    },\n",
    "    \"NexaTech Industries\": {\n",
    "        \"tipo\": \"variable\",\n",
    "        \"categoria\": [\n",
    "            {\"max_requests\": 10000, \"precio\": 250},\n",
    "            {\"max_requests\": 20000, \"precio\": 200},\n",
    "            {\"max_requests\": float(\"inf\"), \"precio\": 170}\n",
    "        ],\n",
    "        \"iva\": 0.19\n",
    "    },\n",
    "    \"QuantumLeap Inc.\": {\n",
    "        \"tipo\": \"fijo\",\n",
    "        \"precio\": 600,\n",
    "        \"iva\": 0.19\n",
    "    },\n",
    "    \"Zenith Corp.\": {\n",
    "        \"tipo\": \"variable\",\n",
    "        \"categoria\": [\n",
    "            {\"max_requests\": 22000, \"precio\": 250},\n",
    "            {\"max_requests\": float(\"inf\"), \"precio\": 130}\n",
    "        ],\n",
    "        \"iva\": 0.19,\n",
    "        \"descuentos\": [\n",
    "            {\"condition\": lambda no_exitosas: no_exitosas > 6000, \"descuento\": 0.05}\n",
    "        ]\n",
    "    },\n",
    "    \"FusionWave Enterprises\": {\n",
    "        \"tipo\": \"fijo\",\n",
    "        \"precio\": 300,\n",
    "        \"iva\": 0.19,\n",
    "        \"descuentos\": [\n",
    "            {\"condition\": lambda no_exitosas: 2500 <= no_exitosas <= 4500, \"descuento\": 0.05},\n",
    "            {\"condition\": lambda no_exitosas: no_exitosas > 4500, \"descuento\": 0.08}\n",
    "        ]\n",
    "    }\n",
    "}"
   ]
  },
  {
   "cell_type": "markdown",
   "metadata": {},
   "source": [
    "Implementamos una función llamada calcular_cobro para calcular el monto total a cobrar a cada comercio según las reglas de facturación definidas en el diccionario terms_contrato. Además, se procesaron los datos obtenidos de la consulta SQL para calcular los valores correspondientes a cada comercio. Finalmente se imprimen."
   ]
  },
  {
   "cell_type": "code",
   "execution_count": 8,
   "metadata": {},
   "outputs": [],
   "source": [
    "def calcular_cobro(comercio, exitosas, no_exitosas):\n",
    "    if comercio not in terms_contrato:\n",
    "        return 0 \n",
    "    \n",
    "    contrato = terms_contrato[comercio]\n",
    "    iva = contrato[\"iva\"]\n",
    "    total_bruto = 0\n",
    "    desc = 0\n",
    "\n",
    "    if contrato[\"tipo\"] == \"fijo\":\n",
    "        total_bruto = exitosas * contrato[\"precio\"]\n",
    "    \n",
    "    elif contrato[\"tipo\"] == \"variable\":\n",
    "        for tier in contrato[\"categoria\"]:\n",
    "            if exitosas <= tier[\"max_requests\"]:\n",
    "                total_bruto = exitosas * tier[\"precio\"]\n",
    "                break\n",
    "\n",
    "    # Aplicar descuentos si existen\n",
    "    if \"descuentos\" in contrato:\n",
    "        for descuento in contrato[\"descuentos\"]:\n",
    "            if descuento[\"condition\"](no_exitosas):\n",
    "                desc = max(desc, descuento[\"descuento\"])\n",
    "\n",
    "    total_descuento = total_bruto * desc\n",
    "    total_neto = (total_bruto - total_descuento) * (1 + iva)\n",
    "    \n",
    "    return round(total_neto, 2)\n",
    "\n",
    "# Depurador de los datos obtenidos de la consulta SQL\n",
    "resultados_cobro = []\n",
    "# for comercio_id, comercio, exitosas, no_exitosas in data:\n",
    "#     print(f\"Depuración: Comercio: {comercio}, Exitosas: {exitosas}, No exitosas: {no_exitosas}\")\n",
    "#     total_cobrar = calcular_cobro(comercio, exitosas, no_exitosas)\n",
    "#     resultados_cobro.append((comercio, total_cobrar))\n",
    "# Mostrar resultados\n",
    "for comercio, total in resultados_cobro:\n",
    "    print(f\"Comercio: {comercio} - Total a cobrar: ${total} COP\")"
   ]
  },
  {
   "cell_type": "markdown",
   "metadata": {},
   "source": [
    "Se procesan los datos obtenidos de la consulta SQL para obtener los valores correspondientes a cada comercio. Los resultados incluyen el desglose de la comisión, el IVA y el total a cobrar, además se asocia la información del NIT y el correo electrónico de cada comercio."
   ]
  },
  {
   "cell_type": "code",
   "execution_count": 9,
   "metadata": {},
   "outputs": [],
   "source": [
    "resultados_cobro = []\n",
    "for comercio_id, comercio, exitosas, no_exitosas in data:\n",
    "    if comercio_id in email_dicc: \n",
    "        total_cobrar = calcular_cobro(comercio, exitosas, no_exitosas)\n",
    "        valor_comision = total_cobrar / 0.19  # Valor sin IVA\n",
    "        valor_iva = total_cobrar - valor_comision\n",
    "        resultados_cobro.append({\n",
    "            \"Fecha-Mes\": \"Julio-Agosto 2024\",\n",
    "            \"Nombre\": comercio,\n",
    "            \"Nit\": email_dicc[comercio_id][\"nit\"],\n",
    "            \"Valor_comision\": round(valor_comision, 2),\n",
    "            \"Valor_iva\": round(valor_iva, 2),\n",
    "            \"Valor_Total\": round(total_cobrar, 2),\n",
    "            \"Correo\": email_dicc[comercio_id][\"email\"]\n",
    "        })"
   ]
  },
  {
   "cell_type": "markdown",
   "metadata": {},
   "source": [
    "Se generó un archivo Excel con el resumen de las facturas procesadas.Incluye información detallada sobre las facturas de cada comercio, como el periodo de facturación (Julio y Agosto de 2024), nombre, NIT, valores de comisión, IVA, total y correo electrónico."
   ]
  },
  {
   "cell_type": "code",
   "execution_count": null,
   "metadata": {},
   "outputs": [
    {
     "name": "stdout",
     "output_type": "stream",
     "text": [
      "Archivo Excel guardado en: c:\\Users\\liahj\\Documents\\Prueba_vacante_ecosistemas\\resultado\\facturas_resumen.xlsx\n"
     ]
    }
   ],
   "source": [
    "# Ruta absoluta del archivo Excel\n",
    "output_file = os.path.abspath(\"resultado/facturas_resumen.xlsx\")\n",
    "\n",
    "# Inicializar el archivo Excel\n",
    "wb = Workbook()\n",
    "ws = wb.active\n",
    "ws.title = \"Facturas Resumen\"\n",
    "\n",
    "#Encabezados\n",
    "headers = [\"Fecha-Mes\", \"Nombre\", \"Nit\", \"Valor Comisión\", \"Valor IVA\", \"Valor Total\", \"Correo\"]\n",
    "ws.append(headers)\n",
    "\n",
    "for resultado in resultados_cobro:\n",
    "    ws.append([\n",
    "        resultado[\"Fecha-Mes\"],\n",
    "        resultado[\"Nombre\"],\n",
    "        resultado[\"Nit\"],\n",
    "        resultado[\"Valor_comision\"],\n",
    "        resultado[\"Valor_iva\"],\n",
    "        resultado[\"Valor_Total\"],\n",
    "        resultado[\"Correo\"]\n",
    "    ])\n",
    "\n",
    "# Guardar archivo Excel :D\n",
    "wb.save(output_file)\n",
    "print(f\"Archivo de excel guardado en: {output_file}\")"
   ]
  },
  {
   "cell_type": "markdown",
   "metadata": {},
   "source": [
    "Se generó un correo electrónico utilizando Microsoft Outlook para enviar el resumen de las facturas procesadas. El correo incluye una tabla HTML con los datos de las facturas y un archivo Excel adjunto con el desglose detallado."
   ]
  },
  {
   "cell_type": "code",
   "execution_count": 11,
   "metadata": {},
   "outputs": [
    {
     "name": "stdout",
     "output_type": "stream",
     "text": [
      "Correo enviado exitosamente.\n"
     ]
    }
   ],
   "source": [
    "# Crear tabla HTML\n",
    "tabla_html = \"\"\"\n",
    "<table border=\"1\" style=\"border-collapse: collapse; text-align: left;\">\n",
    "    <tr>\n",
    "        <th>Fecha-Mes</th>\n",
    "        <th>Nombre</th>\n",
    "        <th>NIT</th>\n",
    "        <th>Valor Comisión</th>\n",
    "        <th>Valor IVA</th>\n",
    "        <th>Valor Total</th>\n",
    "        <th>Correo</th>\n",
    "    </tr>\n",
    "\"\"\"\n",
    "for resultado in resultados_cobro:\n",
    "    tabla_html += f\"\"\"\n",
    "    <tr>\n",
    "        <td>{resultado['Fecha-Mes']}</td>\n",
    "        <td>{resultado['Nombre']}</td>\n",
    "        <td>{resultado['Nit']}</td>\n",
    "        <td>${resultado['Valor_comision']}</td>\n",
    "        <td>${resultado['Valor_iva']}</td>\n",
    "        <td>${resultado['Valor_Total']}</td>\n",
    "        <td>{resultado['Correo']}</td>\n",
    "    </tr>\n",
    "    \"\"\"\n",
    "tabla_html += \"</table>\"\n",
    "\n",
    "# Lanzar Outlook y definir el correo\n",
    "outlook = win32.Dispatch('outlook.application')\n",
    "mail = outlook.CreateItem(0)\n",
    "mail.To = \"valentina.meneses033@gmail.com\" \n",
    "mail.Subject = \"Resumen de Facturas - Julio y Agosto 2024\"\n",
    "mail.HTMLBody = f\"\"\"\n",
    "<p>Holitas!!,</p>\n",
    "<p>A continuación, se presenta el resumen de las facturas generadas para los meses de Julio y Agosto de 2024 :) </p>\n",
    "{tabla_html}\n",
    "<p>Saludos!,</p>\n",
    "\"\"\"\n",
    "\n",
    "# Adjuntamos y enviamos el archivo Excel\n",
    "mail.Attachments.Add(output_file)\n",
    "mail.Send()\n",
    "\n",
    "print(\"Correo enviado exitosamente.\")"
   ]
  }
 ],
 "metadata": {
  "kernelspec": {
   "display_name": "Python 3",
   "language": "python",
   "name": "python3"
  },
  "language_info": {
   "codemirror_mode": {
    "name": "ipython",
    "version": 3
   },
   "file_extension": ".py",
   "mimetype": "text/x-python",
   "name": "python",
   "nbconvert_exporter": "python",
   "pygments_lexer": "ipython3",
   "version": "3.11.2"
  }
 },
 "nbformat": 4,
 "nbformat_minor": 2
}
